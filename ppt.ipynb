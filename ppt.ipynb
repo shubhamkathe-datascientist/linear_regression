{
 "cells": [
  {
   "cell_type": "code",
   "execution_count": 42,
   "id": "e03032e7",
   "metadata": {},
   "outputs": [],
   "source": [
    "import pandas as pd\n",
    "import numpy as np\n"
   ]
  },
  {
   "cell_type": "code",
   "execution_count": 43,
   "id": "e63e79a4",
   "metadata": {},
   "outputs": [],
   "source": [
    "pt = pd.read_csv(r\"D:\\python files\\Property_Price_Train.csv\")"
   ]
  },
  {
   "cell_type": "code",
   "execution_count": 44,
   "id": "7d92863a",
   "metadata": {},
   "outputs": [],
   "source": [
    "pt.Lot_Extent = pt.Lot_Extent.fillna(70)\n",
    "pt.Lane_Type = pt.Lane_Type.fillna('Grvl')\n",
    "pt.Brick_Veneer_Type = pt.Brick_Veneer_Type.fillna('None')\n",
    "pt.Brick_Veneer_Area = pt.Brick_Veneer_Area.fillna(0)\n",
    "pt.Basement_Height = pt.Basement_Height.fillna('TA')\n",
    "pt.Basement_Condition = pt.Basement_Condition.fillna('TA')\n",
    "pt.Exposure_Level=pt.Exposure_Level.fillna('No')\n",
    "pt.BsmtFinType1 = pt.BsmtFinType1.fillna('Unf')\n",
    "pt.BsmtFinType2 = pt.BsmtFinType2.fillna('Unf')\n",
    "pt.Electrical_System=pt.Electrical_System.fillna('SBrkr')\n",
    "pt.Fireplace_Quality = pt.Fireplace_Quality.fillna('Gd')\n",
    "pt.Garage=pt.Garage.fillna('Attchd')\n",
    "pt.Garage_Built_Year=pt.Garage_Built_Year.fillna(2005)\n",
    "pt.Garage_Finish_Year=pt.Garage_Finish_Year.fillna('Unf')\n",
    "pt.Garage_Quality=pt.Garage_Quality.fillna('TA')\n",
    "pt.Garage_Condition=pt.Garage_Condition.fillna('TA')\n",
    "pt.Pool_Quality=pt.Pool_Quality.fillna('Gd')\n",
    "pt.Fence_Quality=pt.Fence_Quality.fillna('MnPrv')\n",
    "pt.Miscellaneous_Feature=pt.Miscellaneous_Feature.fillna('Shed')\n"
   ]
  },
  {
   "cell_type": "code",
   "execution_count": 45,
   "id": "f1e574c8",
   "metadata": {},
   "outputs": [],
   "source": [
    "pt= pt.drop(['Fireplace_Quality','Fence_Quality','Miscellaneous_Feature','Id','Pool_Quality','Lane_Type'], axis=1)"
   ]
  },
  {
   "cell_type": "code",
   "execution_count": null,
   "id": "204379af",
   "metadata": {},
   "outputs": [],
   "source": []
  },
  {
   "cell_type": "code",
   "execution_count": 46,
   "id": "eb42dbd2",
   "metadata": {},
   "outputs": [
    {
     "data": {
      "text/html": [
       "<div>\n",
       "<style scoped>\n",
       "    .dataframe tbody tr th:only-of-type {\n",
       "        vertical-align: middle;\n",
       "    }\n",
       "\n",
       "    .dataframe tbody tr th {\n",
       "        vertical-align: top;\n",
       "    }\n",
       "\n",
       "    .dataframe thead th {\n",
       "        text-align: right;\n",
       "    }\n",
       "</style>\n",
       "<table border=\"1\" class=\"dataframe\">\n",
       "  <thead>\n",
       "    <tr style=\"text-align: right;\">\n",
       "      <th></th>\n",
       "      <th>Building_Class</th>\n",
       "      <th>Zoning_Class</th>\n",
       "      <th>Lot_Extent</th>\n",
       "      <th>Lot_Size</th>\n",
       "      <th>Road_Type</th>\n",
       "      <th>Property_Shape</th>\n",
       "      <th>Land_Outline</th>\n",
       "      <th>Utility_Type</th>\n",
       "      <th>Lot_Configuration</th>\n",
       "      <th>Property_Slope</th>\n",
       "      <th>...</th>\n",
       "      <th>Enclosed_Lobby_Area</th>\n",
       "      <th>Three_Season_Lobby_Area</th>\n",
       "      <th>Screen_Lobby_Area</th>\n",
       "      <th>Pool_Area</th>\n",
       "      <th>Miscellaneous_Value</th>\n",
       "      <th>Month_Sold</th>\n",
       "      <th>Year_Sold</th>\n",
       "      <th>Sale_Type</th>\n",
       "      <th>Sale_Condition</th>\n",
       "      <th>Sale_Price</th>\n",
       "    </tr>\n",
       "  </thead>\n",
       "  <tbody>\n",
       "    <tr>\n",
       "      <th>0</th>\n",
       "      <td>60</td>\n",
       "      <td>RLD</td>\n",
       "      <td>65.0</td>\n",
       "      <td>8450</td>\n",
       "      <td>Paved</td>\n",
       "      <td>Reg</td>\n",
       "      <td>Lvl</td>\n",
       "      <td>AllPub</td>\n",
       "      <td>I</td>\n",
       "      <td>GS</td>\n",
       "      <td>...</td>\n",
       "      <td>20.337934</td>\n",
       "      <td>0</td>\n",
       "      <td>0</td>\n",
       "      <td>0</td>\n",
       "      <td>0</td>\n",
       "      <td>2</td>\n",
       "      <td>2008</td>\n",
       "      <td>WD</td>\n",
       "      <td>Normal</td>\n",
       "      <td>208500</td>\n",
       "    </tr>\n",
       "    <tr>\n",
       "      <th>1</th>\n",
       "      <td>20</td>\n",
       "      <td>RLD</td>\n",
       "      <td>80.0</td>\n",
       "      <td>9600</td>\n",
       "      <td>Paved</td>\n",
       "      <td>Reg</td>\n",
       "      <td>Lvl</td>\n",
       "      <td>AllPub</td>\n",
       "      <td>FR2P</td>\n",
       "      <td>GS</td>\n",
       "      <td>...</td>\n",
       "      <td>15.039392</td>\n",
       "      <td>0</td>\n",
       "      <td>0</td>\n",
       "      <td>0</td>\n",
       "      <td>0</td>\n",
       "      <td>5</td>\n",
       "      <td>2007</td>\n",
       "      <td>WD</td>\n",
       "      <td>Normal</td>\n",
       "      <td>181500</td>\n",
       "    </tr>\n",
       "    <tr>\n",
       "      <th>2</th>\n",
       "      <td>60</td>\n",
       "      <td>RLD</td>\n",
       "      <td>68.0</td>\n",
       "      <td>11250</td>\n",
       "      <td>Paved</td>\n",
       "      <td>IR1</td>\n",
       "      <td>Lvl</td>\n",
       "      <td>AllPub</td>\n",
       "      <td>I</td>\n",
       "      <td>GS</td>\n",
       "      <td>...</td>\n",
       "      <td>-46.232198</td>\n",
       "      <td>0</td>\n",
       "      <td>0</td>\n",
       "      <td>0</td>\n",
       "      <td>0</td>\n",
       "      <td>9</td>\n",
       "      <td>2008</td>\n",
       "      <td>WD</td>\n",
       "      <td>Normal</td>\n",
       "      <td>223500</td>\n",
       "    </tr>\n",
       "    <tr>\n",
       "      <th>3</th>\n",
       "      <td>70</td>\n",
       "      <td>RLD</td>\n",
       "      <td>60.0</td>\n",
       "      <td>9550</td>\n",
       "      <td>Paved</td>\n",
       "      <td>IR1</td>\n",
       "      <td>Lvl</td>\n",
       "      <td>AllPub</td>\n",
       "      <td>C</td>\n",
       "      <td>GS</td>\n",
       "      <td>...</td>\n",
       "      <td>60.921821</td>\n",
       "      <td>0</td>\n",
       "      <td>0</td>\n",
       "      <td>0</td>\n",
       "      <td>0</td>\n",
       "      <td>2</td>\n",
       "      <td>2006</td>\n",
       "      <td>WD</td>\n",
       "      <td>Abnorml</td>\n",
       "      <td>140000</td>\n",
       "    </tr>\n",
       "    <tr>\n",
       "      <th>4</th>\n",
       "      <td>60</td>\n",
       "      <td>RLD</td>\n",
       "      <td>84.0</td>\n",
       "      <td>14260</td>\n",
       "      <td>Paved</td>\n",
       "      <td>IR1</td>\n",
       "      <td>Lvl</td>\n",
       "      <td>AllPub</td>\n",
       "      <td>FR2P</td>\n",
       "      <td>GS</td>\n",
       "      <td>...</td>\n",
       "      <td>21.788818</td>\n",
       "      <td>0</td>\n",
       "      <td>0</td>\n",
       "      <td>0</td>\n",
       "      <td>0</td>\n",
       "      <td>12</td>\n",
       "      <td>2008</td>\n",
       "      <td>WD</td>\n",
       "      <td>Normal</td>\n",
       "      <td>250000</td>\n",
       "    </tr>\n",
       "  </tbody>\n",
       "</table>\n",
       "<p>5 rows × 75 columns</p>\n",
       "</div>"
      ],
      "text/plain": [
       "   Building_Class Zoning_Class  Lot_Extent  Lot_Size Road_Type Property_Shape  \\\n",
       "0              60          RLD        65.0      8450     Paved            Reg   \n",
       "1              20          RLD        80.0      9600     Paved            Reg   \n",
       "2              60          RLD        68.0     11250     Paved            IR1   \n",
       "3              70          RLD        60.0      9550     Paved            IR1   \n",
       "4              60          RLD        84.0     14260     Paved            IR1   \n",
       "\n",
       "  Land_Outline Utility_Type Lot_Configuration Property_Slope  ...  \\\n",
       "0          Lvl       AllPub                 I             GS  ...   \n",
       "1          Lvl       AllPub              FR2P             GS  ...   \n",
       "2          Lvl       AllPub                 I             GS  ...   \n",
       "3          Lvl       AllPub                 C             GS  ...   \n",
       "4          Lvl       AllPub              FR2P             GS  ...   \n",
       "\n",
       "  Enclosed_Lobby_Area Three_Season_Lobby_Area Screen_Lobby_Area Pool_Area  \\\n",
       "0           20.337934                       0                 0         0   \n",
       "1           15.039392                       0                 0         0   \n",
       "2          -46.232198                       0                 0         0   \n",
       "3           60.921821                       0                 0         0   \n",
       "4           21.788818                       0                 0         0   \n",
       "\n",
       "  Miscellaneous_Value  Month_Sold  Year_Sold  Sale_Type  Sale_Condition  \\\n",
       "0                   0           2       2008         WD          Normal   \n",
       "1                   0           5       2007         WD          Normal   \n",
       "2                   0           9       2008         WD          Normal   \n",
       "3                   0           2       2006         WD         Abnorml   \n",
       "4                   0          12       2008         WD          Normal   \n",
       "\n",
       "  Sale_Price  \n",
       "0     208500  \n",
       "1     181500  \n",
       "2     223500  \n",
       "3     140000  \n",
       "4     250000  \n",
       "\n",
       "[5 rows x 75 columns]"
      ]
     },
     "execution_count": 46,
     "metadata": {},
     "output_type": "execute_result"
    }
   ],
   "source": [
    "pt.head()"
   ]
  },
  {
   "cell_type": "code",
   "execution_count": 47,
   "id": "a525c30c",
   "metadata": {},
   "outputs": [],
   "source": [
    "from sklearn.preprocessing import LabelEncoder\n",
    "le=LabelEncoder()"
   ]
  },
  {
   "cell_type": "code",
   "execution_count": 48,
   "id": "7865a05d",
   "metadata": {},
   "outputs": [],
   "source": [
    "pt[pt.select_dtypes(include=['object']).columns]= pt[pt.select_dtypes(include=['object']).columns].apply(le.fit_transform)"
   ]
  },
  {
   "cell_type": "code",
   "execution_count": 49,
   "id": "d7c7a473",
   "metadata": {},
   "outputs": [
    {
     "data": {
      "text/plain": [
       "Series([], dtype: int64)"
      ]
     },
     "execution_count": 49,
     "metadata": {},
     "output_type": "execute_result"
    }
   ],
   "source": [
    "pt.isnull().sum()[pt.isnull().sum()>0]"
   ]
  },
  {
   "cell_type": "code",
   "execution_count": 50,
   "id": "46ab0d57",
   "metadata": {},
   "outputs": [
    {
     "data": {
      "text/plain": [
       "(1459, 75)"
      ]
     },
     "execution_count": 50,
     "metadata": {},
     "output_type": "execute_result"
    }
   ],
   "source": [
    "pt.shape"
   ]
  },
  {
   "cell_type": "code",
   "execution_count": 51,
   "id": "61d1a792",
   "metadata": {},
   "outputs": [],
   "source": [
    "from sklearn.model_selection import train_test_split"
   ]
  },
  {
   "cell_type": "code",
   "execution_count": 108,
   "id": "161bed2b",
   "metadata": {},
   "outputs": [],
   "source": [
    "pt=df1 #for removing outliers we covert in df1"
   ]
  },
  {
   "cell_type": "code",
   "execution_count": 109,
   "id": "ca4c1606",
   "metadata": {},
   "outputs": [],
   "source": [
    "pt_train,pt_test= train_test_split(pt,test_size=.2)"
   ]
  },
  {
   "cell_type": "code",
   "execution_count": 110,
   "id": "40507b8d",
   "metadata": {},
   "outputs": [],
   "source": [
    "pt_train_x=pt_train.iloc[:,0:-1]\n",
    "pt_train_y=pt_train.iloc[:,-1]"
   ]
  },
  {
   "cell_type": "code",
   "execution_count": 111,
   "id": "219056a7",
   "metadata": {},
   "outputs": [],
   "source": [
    "pt_test_x = pt_test.iloc[: , 0:-1]\n",
    "pt_test_y = pt_test.iloc[: , -1]"
   ]
  },
  {
   "cell_type": "code",
   "execution_count": 112,
   "id": "fd034245",
   "metadata": {},
   "outputs": [
    {
     "data": {
      "text/plain": [
       "102     118964\n",
       "716     159500\n",
       "138     230000\n",
       "1023    191000\n",
       "359     280000\n",
       "Name: Sale_Price, dtype: int64"
      ]
     },
     "execution_count": 112,
     "metadata": {},
     "output_type": "execute_result"
    }
   ],
   "source": [
    "pt_train_y.head()"
   ]
  },
  {
   "cell_type": "code",
   "execution_count": 113,
   "id": "b9c8ec19",
   "metadata": {},
   "outputs": [],
   "source": [
    "from sklearn.linear_model import LinearRegression"
   ]
  },
  {
   "cell_type": "code",
   "execution_count": 114,
   "id": "20ecde1c",
   "metadata": {},
   "outputs": [],
   "source": [
    "linreg=LinearRegression()"
   ]
  },
  {
   "cell_type": "code",
   "execution_count": 115,
   "id": "85bf3256",
   "metadata": {},
   "outputs": [
    {
     "data": {
      "text/plain": [
       "LinearRegression()"
      ]
     },
     "execution_count": 115,
     "metadata": {},
     "output_type": "execute_result"
    }
   ],
   "source": [
    "linreg.fit(pt_train_x,pt_train_y)"
   ]
  },
  {
   "cell_type": "code",
   "execution_count": 116,
   "id": "4e23d20b",
   "metadata": {},
   "outputs": [
    {
     "data": {
      "text/plain": [
       "0.8452736827963379"
      ]
     },
     "execution_count": 116,
     "metadata": {},
     "output_type": "execute_result"
    }
   ],
   "source": [
    "linreg.score(pt_train_x,pt_train_y)"
   ]
  },
  {
   "cell_type": "code",
   "execution_count": 117,
   "id": "ef43ec86",
   "metadata": {},
   "outputs": [],
   "source": [
    "Rsquare=linreg.score(pt_train_x,pt_train_y)"
   ]
  },
  {
   "cell_type": "code",
   "execution_count": 118,
   "id": "936c60d8",
   "metadata": {},
   "outputs": [],
   "source": [
    "n=pt_train_x.shape[0]\n",
    "k=pt_train_x.shape[1]"
   ]
  },
  {
   "cell_type": "code",
   "execution_count": 119,
   "id": "28a24861",
   "metadata": {},
   "outputs": [
    {
     "data": {
      "text/plain": [
       "0.8336495736866212"
      ]
     },
     "execution_count": 119,
     "metadata": {},
     "output_type": "execute_result"
    }
   ],
   "source": [
    "AdjRsquare=1-(1-Rsquare)*(n-1)/(n-k-1)\n",
    "AdjRsquare"
   ]
  },
  {
   "cell_type": "code",
   "execution_count": 120,
   "id": "caec12cc",
   "metadata": {},
   "outputs": [],
   "source": [
    "pred_train=linreg.predict(pt_train_x)\n",
    "pred_test=linreg.predict(pt_test_x)"
   ]
  },
  {
   "cell_type": "code",
   "execution_count": 121,
   "id": "9bb456d3",
   "metadata": {
    "scrolled": true
   },
   "outputs": [],
   "source": [
    "err_train =pt_train_y - pred_train\n",
    "err_test=pt_test_y-pred_test"
   ]
  },
  {
   "cell_type": "code",
   "execution_count": null,
   "id": "a52fb1cc",
   "metadata": {},
   "outputs": [],
   "source": []
  },
  {
   "cell_type": "code",
   "execution_count": null,
   "id": "089d092d",
   "metadata": {},
   "outputs": [],
   "source": []
  },
  {
   "cell_type": "code",
   "execution_count": 122,
   "id": "6ac25875",
   "metadata": {},
   "outputs": [],
   "source": [
    "import numpy as np"
   ]
  },
  {
   "cell_type": "code",
   "execution_count": 123,
   "id": "c2806326",
   "metadata": {},
   "outputs": [
    {
     "data": {
      "text/plain": [
       "-1.8000444573051525e-10"
      ]
     },
     "execution_count": 123,
     "metadata": {},
     "output_type": "execute_result"
    }
   ],
   "source": [
    "np.mean(err_train)"
   ]
  },
  {
   "cell_type": "code",
   "execution_count": 124,
   "id": "896d0caa",
   "metadata": {},
   "outputs": [],
   "source": [
    "import matplotlib.pyplot as plt"
   ]
  },
  {
   "cell_type": "code",
   "execution_count": 125,
   "id": "97c16854",
   "metadata": {},
   "outputs": [
    {
     "data": {
      "text/plain": [
       "[<matplotlib.lines.Line2D at 0x223dbd14e80>]"
      ]
     },
     "execution_count": 125,
     "metadata": {},
     "output_type": "execute_result"
    },
    {
     "data": {
      "image/png": "[encoded data removed]",
      "text/plain": [
       "<Figure size 432x288 with 1 Axes>"
      ]
     },
     "metadata": {
      "needs_background": "light"
     },
     "output_type": "display_data"
    }
   ],
   "source": [
    "plt.plot(err_train,'*')"
   ]
  },
  {
   "cell_type": "code",
   "execution_count": 126,
   "id": "50db592b",
   "metadata": {},
   "outputs": [
    {
     "data": {
      "image/png": "[encoded data removed]",
      "text/plain": [
       "<Figure size 432x288 with 1 Axes>"
      ]
     },
     "metadata": {
      "needs_background": "light"
     },
     "output_type": "display_data"
    }
   ],
   "source": [
    "plt.hist(err_train,color='r',bins=20,edgecolor='g');\n",
    "# normal distribution property are broken here\n",
    "# its lepto curtosis"
   ]
  },
  {
   "cell_type": "code",
   "execution_count": null,
   "id": "dafdaf83",
   "metadata": {
    "scrolled": true
   },
   "outputs": [],
   "source": []
  },
  {
   "cell_type": "code",
   "execution_count": 127,
   "id": "8846cdfd",
   "metadata": {},
   "outputs": [],
   "source": [
    "pred_actual_df= pd.DataFrame() #create empty dataframe "
   ]
  },
  {
   "cell_type": "code",
   "execution_count": 128,
   "id": "29b03de6",
   "metadata": {},
   "outputs": [],
   "source": [
    "pred_actual_df['Actual']= pt_train_y\n",
    "pred_actual_df['Predict']= pred_train"
   ]
  },
  {
   "cell_type": "code",
   "execution_count": 129,
   "id": "0f49088e",
   "metadata": {},
   "outputs": [
    {
     "data": {
      "text/html": [
       "<div>\n",
       "<style scoped>\n",
       "    .dataframe tbody tr th:only-of-type {\n",
       "        vertical-align: middle;\n",
       "    }\n",
       "\n",
       "    .dataframe tbody tr th {\n",
       "        vertical-align: top;\n",
       "    }\n",
       "\n",
       "    .dataframe thead th {\n",
       "        text-align: right;\n",
       "    }\n",
       "</style>\n",
       "<table border=\"1\" class=\"dataframe\">\n",
       "  <thead>\n",
       "    <tr style=\"text-align: right;\">\n",
       "      <th></th>\n",
       "      <th>Actual</th>\n",
       "      <th>Predict</th>\n",
       "    </tr>\n",
       "  </thead>\n",
       "  <tbody>\n",
       "    <tr>\n",
       "      <th>102</th>\n",
       "      <td>118964</td>\n",
       "      <td>120079.218836</td>\n",
       "    </tr>\n",
       "    <tr>\n",
       "      <th>716</th>\n",
       "      <td>159500</td>\n",
       "      <td>164284.979414</td>\n",
       "    </tr>\n",
       "    <tr>\n",
       "      <th>138</th>\n",
       "      <td>230000</td>\n",
       "      <td>241376.293945</td>\n",
       "    </tr>\n",
       "    <tr>\n",
       "      <th>1023</th>\n",
       "      <td>191000</td>\n",
       "      <td>189875.330456</td>\n",
       "    </tr>\n",
       "    <tr>\n",
       "      <th>359</th>\n",
       "      <td>280000</td>\n",
       "      <td>254162.775155</td>\n",
       "    </tr>\n",
       "  </tbody>\n",
       "</table>\n",
       "</div>"
      ],
      "text/plain": [
       "      Actual        Predict\n",
       "102   118964  120079.218836\n",
       "716   159500  164284.979414\n",
       "138   230000  241376.293945\n",
       "1023  191000  189875.330456\n",
       "359   280000  254162.775155"
      ]
     },
     "execution_count": 129,
     "metadata": {},
     "output_type": "execute_result"
    }
   ],
   "source": [
    "pred_actual_df.head()"
   ]
  },
  {
   "cell_type": "code",
   "execution_count": 130,
   "id": "5af59660",
   "metadata": {},
   "outputs": [],
   "source": [
    "import seaborn as sns"
   ]
  },
  {
   "cell_type": "code",
   "execution_count": 131,
   "id": "1e2ce930",
   "metadata": {},
   "outputs": [
    {
     "data": {
      "text/plain": [
       "<seaborn.axisgrid.JointGrid at 0x223da20b5e0>"
      ]
     },
     "execution_count": 131,
     "metadata": {},
     "output_type": "execute_result"
    },
    {
     "data": {
      "image/png": "[encoded data removed]",
      "text/plain": [
       "<Figure size 432x432 with 3 Axes>"
      ]
     },
     "metadata": {
      "needs_background": "light"
     },
     "output_type": "display_data"
    }
   ],
   "source": [
    "sns.jointplot(x='Actual', y='Predict',data= pred_actual_df, kind='reg')\n",
    "#assumution check homocedacity\n"
   ]
  },
  {
   "cell_type": "code",
   "execution_count": 132,
   "id": "4e491e4f",
   "metadata": {},
   "outputs": [],
   "source": [
    "#some points far  away from the regression  line \n",
    "#these points we are taaking as outliers"
   ]
  },
  {
   "cell_type": "code",
   "execution_count": null,
   "id": "5dc4b7b5",
   "metadata": {},
   "outputs": [],
   "source": [
    " "
   ]
  },
  {
   "cell_type": "code",
   "execution_count": null,
   "id": "8c98a8da",
   "metadata": {},
   "outputs": [],
   "source": [
    "#remove outliers program"
   ]
  },
  {
   "cell_type": "code",
   "execution_count": 105,
   "id": "db0b34a6",
   "metadata": {},
   "outputs": [],
   "source": [
    "def remove_outliers(df, col, k):\n",
    "    mean= df[col].mean()\n",
    "    global df1\n",
    "    sd= df[col].std()\n",
    "    final_list=[x for x in df[col] if (x>mean-k*sd)]\n",
    "    final_list= [x for x in final_list if (x<mean + k*sd)]\n",
    "    df1 =df.loc[df[col].isin(final_list)] ; print(df1.shape)\n",
    "    print('number of outliers removed ==>', df.shape[0]-df1.shape[0])"
   ]
  },
  {
   "cell_type": "code",
   "execution_count": 106,
   "id": "d8425325",
   "metadata": {},
   "outputs": [],
   "source": [
    "# df1 is the final dataframe where outliers have been removed    "
   ]
  },
  {
   "cell_type": "code",
   "execution_count": null,
   "id": "9aba3f8d",
   "metadata": {},
   "outputs": [],
   "source": []
  },
  {
   "cell_type": "code",
   "execution_count": 107,
   "id": "8fee286c",
   "metadata": {
    "scrolled": true
   },
   "outputs": [
    {
     "name": "stdout",
     "output_type": "stream",
     "text": [
      "(1326, 75)\n",
      "number of outliers removed ==> 70\n"
     ]
    }
   ],
   "source": [
    "remove_outliers(pt, 'Sale_Price', 2)"
   ]
  },
  {
   "cell_type": "code",
   "execution_count": null,
   "id": "e8b7b736",
   "metadata": {},
   "outputs": [],
   "source": []
  },
  {
   "cell_type": "code",
   "execution_count": null,
   "id": "2d0112e9",
   "metadata": {},
   "outputs": [],
   "source": []
  },
  {
   "cell_type": "code",
   "execution_count": null,
   "id": "db68b2a8",
   "metadata": {},
   "outputs": [],
   "source": []
  },
  {
   "cell_type": "code",
   "execution_count": null,
   "id": "f5941a51",
   "metadata": {},
   "outputs": [],
   "source": []
  },
  {
   "cell_type": "code",
   "execution_count": null,
   "id": "fd4ff3d8",
   "metadata": {},
   "outputs": [],
   "source": []
  },
  {
   "cell_type": "code",
   "execution_count": null,
   "id": "f1013acb",
   "metadata": {},
   "outputs": [],
   "source": []
  },
  {
   "cell_type": "code",
   "execution_count": null,
   "id": "24a6f266",
   "metadata": {},
   "outputs": [],
   "source": []
  },
  {
   "cell_type": "code",
   "execution_count": null,
   "id": "8121f680",
   "metadata": {},
   "outputs": [],
   "source": []
  },
  {
   "cell_type": "code",
   "execution_count": null,
   "id": "f5b52104",
   "metadata": {},
   "outputs": [],
   "source": []
  },
  {
   "cell_type": "code",
   "execution_count": null,
   "id": "4595f5d7",
   "metadata": {},
   "outputs": [],
   "source": []
  },
  {
   "cell_type": "code",
   "execution_count": null,
   "id": "36959377",
   "metadata": {},
   "outputs": [],
   "source": []
  },
  {
   "cell_type": "code",
   "execution_count": null,
   "id": "4be5b397",
   "metadata": {},
   "outputs": [],
   "source": []
  },
  {
   "cell_type": "code",
   "execution_count": null,
   "id": "1063d108",
   "metadata": {},
   "outputs": [],
   "source": []
  },
  {
   "cell_type": "code",
   "execution_count": null,
   "id": "ef389568",
   "metadata": {},
   "outputs": [],
   "source": []
  }
 ],
 "metadata": {
  "kernelspec": {
   "display_name": "Python 3 (ipykernel)",
   "language": "python",
   "name": "python3"
  },
  "language_info": {
   "codemirror_mode": {
    "name": "ipython",
    "version": 3
   },
   "file_extension": ".py",
   "mimetype": "text/x-python",
   "name": "python",
   "nbconvert_exporter": "python",
   "pygments_lexer": "ipython3",
   "version": "3.9.12"
  }
 },
 "nbformat": 4,
 "nbformat_minor": 5
}
