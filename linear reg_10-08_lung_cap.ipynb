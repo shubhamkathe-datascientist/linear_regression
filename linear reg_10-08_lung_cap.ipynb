{
 "cells": [
  {
   "cell_type": "code",
   "execution_count": 1,
   "id": "af0cc02c",
   "metadata": {},
   "outputs": [],
   "source": [
    "import pandas as pd\n",
    "import numpy as np"
   ]
  },
  {
   "cell_type": "code",
   "execution_count": 2,
   "id": "18eade2d",
   "metadata": {},
   "outputs": [],
   "source": [
    "\n",
    "lcn=pd.read_csv(r\"D:\\python files\\LungCapData.csv\")"
   ]
  },
  {
   "cell_type": "code",
   "execution_count": 3,
   "id": "069e20f4",
   "metadata": {},
   "outputs": [
    {
     "data": {
      "text/html": [
       "<div>\n",
       "<style scoped>\n",
       "    .dataframe tbody tr th:only-of-type {\n",
       "        vertical-align: middle;\n",
       "    }\n",
       "\n",
       "    .dataframe tbody tr th {\n",
       "        vertical-align: top;\n",
       "    }\n",
       "\n",
       "    .dataframe thead th {\n",
       "        text-align: right;\n",
       "    }\n",
       "</style>\n",
       "<table border=\"1\" class=\"dataframe\">\n",
       "  <thead>\n",
       "    <tr style=\"text-align: right;\">\n",
       "      <th></th>\n",
       "      <th>LungCap</th>\n",
       "      <th>Age</th>\n",
       "      <th>Height</th>\n",
       "      <th>Smoke</th>\n",
       "      <th>Gender</th>\n",
       "      <th>Caesarean</th>\n",
       "    </tr>\n",
       "  </thead>\n",
       "  <tbody>\n",
       "    <tr>\n",
       "      <th>0</th>\n",
       "      <td>6.475</td>\n",
       "      <td>6</td>\n",
       "      <td>62.1</td>\n",
       "      <td>no</td>\n",
       "      <td>male</td>\n",
       "      <td>no</td>\n",
       "    </tr>\n",
       "    <tr>\n",
       "      <th>1</th>\n",
       "      <td>10.125</td>\n",
       "      <td>18</td>\n",
       "      <td>74.7</td>\n",
       "      <td>yes</td>\n",
       "      <td>female</td>\n",
       "      <td>no</td>\n",
       "    </tr>\n",
       "    <tr>\n",
       "      <th>2</th>\n",
       "      <td>9.550</td>\n",
       "      <td>16</td>\n",
       "      <td>69.7</td>\n",
       "      <td>no</td>\n",
       "      <td>female</td>\n",
       "      <td>yes</td>\n",
       "    </tr>\n",
       "    <tr>\n",
       "      <th>3</th>\n",
       "      <td>11.125</td>\n",
       "      <td>14</td>\n",
       "      <td>71.0</td>\n",
       "      <td>no</td>\n",
       "      <td>male</td>\n",
       "      <td>no</td>\n",
       "    </tr>\n",
       "    <tr>\n",
       "      <th>4</th>\n",
       "      <td>4.800</td>\n",
       "      <td>5</td>\n",
       "      <td>56.9</td>\n",
       "      <td>no</td>\n",
       "      <td>male</td>\n",
       "      <td>no</td>\n",
       "    </tr>\n",
       "  </tbody>\n",
       "</table>\n",
       "</div>"
      ],
      "text/plain": [
       "   LungCap  Age  Height Smoke  Gender Caesarean\n",
       "0    6.475    6    62.1    no    male        no\n",
       "1   10.125   18    74.7   yes  female        no\n",
       "2    9.550   16    69.7    no  female       yes\n",
       "3   11.125   14    71.0    no    male        no\n",
       "4    4.800    5    56.9    no    male        no"
      ]
     },
     "execution_count": 3,
     "metadata": {},
     "output_type": "execute_result"
    }
   ],
   "source": [
    "lcn.head()"
   ]
  },
  {
   "cell_type": "code",
   "execution_count": null,
   "id": "c83dcc14",
   "metadata": {},
   "outputs": [],
   "source": []
  },
  {
   "cell_type": "code",
   "execution_count": null,
   "id": "056616c4",
   "metadata": {},
   "outputs": [],
   "source": []
  },
  {
   "cell_type": "code",
   "execution_count": 4,
   "id": "cc28d08a",
   "metadata": {},
   "outputs": [],
   "source": [
    "# IMP\n",
    "# steps involve in model building\n",
    "# 1. understand the requirements / problem statement\n",
    "# 2. get the data \n",
    "# 3. data pre-processing / data cleaning ( null , rename, replace,non-numeric number ets)\n",
    "# 4. Sampling(random sampling)\n",
    "# 5. build the model\n",
    "# 6. Test the model and check the model performance\n",
    "# 7. re-run from some previous step\n",
    "\n",
    "#Dont forget step 3 & 4."
   ]
  },
  {
   "cell_type": "code",
   "execution_count": null,
   "id": "ac22f21d",
   "metadata": {},
   "outputs": [],
   "source": []
  },
  {
   "cell_type": "code",
   "execution_count": 5,
   "id": "9b248d1f",
   "metadata": {},
   "outputs": [],
   "source": [
    "# 1. understand the requirements / problem statement\n",
    "#to build predictive model which can predict the lung cap"
   ]
  },
  {
   "cell_type": "code",
   "execution_count": 6,
   "id": "db1efef0",
   "metadata": {},
   "outputs": [
    {
     "data": {
      "text/plain": [
       "LungCap      0\n",
       "Age          0\n",
       "Height       0\n",
       "Smoke        0\n",
       "Gender       0\n",
       "Caesarean    0\n",
       "dtype: int64"
      ]
     },
     "execution_count": 6,
     "metadata": {},
     "output_type": "execute_result"
    }
   ],
   "source": [
    "lcn.isnull().sum()"
   ]
  },
  {
   "cell_type": "code",
   "execution_count": 7,
   "id": "a274ed41",
   "metadata": {},
   "outputs": [],
   "source": [
    "# 3. data pre-processing / data cleaning\n",
    "lcn.Smoke=lcn.Smoke.replace({'no':0,'yes':1})\n",
    "lcn.Gender=lcn.Gender.replace({'male':1,'female':0})\n",
    "lcn.Caesarean=lcn.Caesarean.replace({'no':0,'yes':1})"
   ]
  },
  {
   "cell_type": "code",
   "execution_count": 8,
   "id": "71534fc3",
   "metadata": {},
   "outputs": [
    {
     "data": {
      "text/html": [
       "<div>\n",
       "<style scoped>\n",
       "    .dataframe tbody tr th:only-of-type {\n",
       "        vertical-align: middle;\n",
       "    }\n",
       "\n",
       "    .dataframe tbody tr th {\n",
       "        vertical-align: top;\n",
       "    }\n",
       "\n",
       "    .dataframe thead th {\n",
       "        text-align: right;\n",
       "    }\n",
       "</style>\n",
       "<table border=\"1\" class=\"dataframe\">\n",
       "  <thead>\n",
       "    <tr style=\"text-align: right;\">\n",
       "      <th></th>\n",
       "      <th>LungCap</th>\n",
       "      <th>Age</th>\n",
       "      <th>Height</th>\n",
       "      <th>Smoke</th>\n",
       "      <th>Gender</th>\n",
       "      <th>Caesarean</th>\n",
       "    </tr>\n",
       "  </thead>\n",
       "  <tbody>\n",
       "    <tr>\n",
       "      <th>0</th>\n",
       "      <td>6.475</td>\n",
       "      <td>6</td>\n",
       "      <td>62.1</td>\n",
       "      <td>0</td>\n",
       "      <td>1</td>\n",
       "      <td>0</td>\n",
       "    </tr>\n",
       "    <tr>\n",
       "      <th>1</th>\n",
       "      <td>10.125</td>\n",
       "      <td>18</td>\n",
       "      <td>74.7</td>\n",
       "      <td>1</td>\n",
       "      <td>0</td>\n",
       "      <td>0</td>\n",
       "    </tr>\n",
       "    <tr>\n",
       "      <th>2</th>\n",
       "      <td>9.550</td>\n",
       "      <td>16</td>\n",
       "      <td>69.7</td>\n",
       "      <td>0</td>\n",
       "      <td>0</td>\n",
       "      <td>1</td>\n",
       "    </tr>\n",
       "    <tr>\n",
       "      <th>3</th>\n",
       "      <td>11.125</td>\n",
       "      <td>14</td>\n",
       "      <td>71.0</td>\n",
       "      <td>0</td>\n",
       "      <td>1</td>\n",
       "      <td>0</td>\n",
       "    </tr>\n",
       "    <tr>\n",
       "      <th>4</th>\n",
       "      <td>4.800</td>\n",
       "      <td>5</td>\n",
       "      <td>56.9</td>\n",
       "      <td>0</td>\n",
       "      <td>1</td>\n",
       "      <td>0</td>\n",
       "    </tr>\n",
       "  </tbody>\n",
       "</table>\n",
       "</div>"
      ],
      "text/plain": [
       "   LungCap  Age  Height  Smoke  Gender  Caesarean\n",
       "0    6.475    6    62.1      0       1          0\n",
       "1   10.125   18    74.7      1       0          0\n",
       "2    9.550   16    69.7      0       0          1\n",
       "3   11.125   14    71.0      0       1          0\n",
       "4    4.800    5    56.9      0       1          0"
      ]
     },
     "execution_count": 8,
     "metadata": {},
     "output_type": "execute_result"
    }
   ],
   "source": [
    "lcn.head()"
   ]
  },
  {
   "cell_type": "code",
   "execution_count": 9,
   "id": "cc74d22c",
   "metadata": {},
   "outputs": [],
   "source": [
    "from sklearn.model_selection import train_test_split"
   ]
  },
  {
   "cell_type": "code",
   "execution_count": 10,
   "id": "21898f9d",
   "metadata": {},
   "outputs": [],
   "source": [
    "lcn_train,lcn_test=train_test_split(lcn,test_size=.2)"
   ]
  },
  {
   "cell_type": "code",
   "execution_count": 11,
   "id": "101a1108",
   "metadata": {},
   "outputs": [],
   "source": [
    "lcn_train_x=lcn_train.iloc[:,1::]\n",
    "lcn_train_y=lcn_train.iloc[:,0]"
   ]
  },
  {
   "cell_type": "code",
   "execution_count": 12,
   "id": "6e495634",
   "metadata": {},
   "outputs": [],
   "source": [
    "lcn_test_x=lcn_test.iloc[:,1::]\n",
    "lcn_test_y=lcn_test.iloc[:,0]"
   ]
  },
  {
   "cell_type": "code",
   "execution_count": 13,
   "id": "79e2596a",
   "metadata": {},
   "outputs": [],
   "source": [
    "#import necc function from sklearn\n",
    "#create an object of that function model is created\n",
    "#run the fit function model is created\n",
    "#run the prediction function(prediction is done)"
   ]
  },
  {
   "cell_type": "code",
   "execution_count": 14,
   "id": "b16fdd72",
   "metadata": {},
   "outputs": [],
   "source": [
    "from sklearn.linear_model import LinearRegression"
   ]
  },
  {
   "cell_type": "code",
   "execution_count": 15,
   "id": "693f5903",
   "metadata": {},
   "outputs": [],
   "source": [
    "linreg=LinearRegression()"
   ]
  },
  {
   "cell_type": "code",
   "execution_count": 16,
   "id": "b6e0df0c",
   "metadata": {},
   "outputs": [
    {
     "data": {
      "text/plain": [
       "LinearRegression()"
      ]
     },
     "execution_count": 16,
     "metadata": {},
     "output_type": "execute_result"
    }
   ],
   "source": [
    "linreg.fit(lcn_train_x,lcn_train_y)"
   ]
  },
  {
   "cell_type": "code",
   "execution_count": 17,
   "id": "e44794ff",
   "metadata": {},
   "outputs": [
    {
     "data": {
      "text/html": [
       "<div>\n",
       "<style scoped>\n",
       "    .dataframe tbody tr th:only-of-type {\n",
       "        vertical-align: middle;\n",
       "    }\n",
       "\n",
       "    .dataframe tbody tr th {\n",
       "        vertical-align: top;\n",
       "    }\n",
       "\n",
       "    .dataframe thead th {\n",
       "        text-align: right;\n",
       "    }\n",
       "</style>\n",
       "<table border=\"1\" class=\"dataframe\">\n",
       "  <thead>\n",
       "    <tr style=\"text-align: right;\">\n",
       "      <th></th>\n",
       "      <th>Age</th>\n",
       "      <th>Height</th>\n",
       "      <th>Smoke</th>\n",
       "      <th>Gender</th>\n",
       "      <th>Caesarean</th>\n",
       "    </tr>\n",
       "  </thead>\n",
       "  <tbody>\n",
       "    <tr>\n",
       "      <th>277</th>\n",
       "      <td>13</td>\n",
       "      <td>66.0</td>\n",
       "      <td>0</td>\n",
       "      <td>1</td>\n",
       "      <td>1</td>\n",
       "    </tr>\n",
       "    <tr>\n",
       "      <th>199</th>\n",
       "      <td>12</td>\n",
       "      <td>66.4</td>\n",
       "      <td>0</td>\n",
       "      <td>0</td>\n",
       "      <td>0</td>\n",
       "    </tr>\n",
       "    <tr>\n",
       "      <th>627</th>\n",
       "      <td>6</td>\n",
       "      <td>49.2</td>\n",
       "      <td>0</td>\n",
       "      <td>0</td>\n",
       "      <td>0</td>\n",
       "    </tr>\n",
       "    <tr>\n",
       "      <th>391</th>\n",
       "      <td>16</td>\n",
       "      <td>71.2</td>\n",
       "      <td>0</td>\n",
       "      <td>0</td>\n",
       "      <td>0</td>\n",
       "    </tr>\n",
       "    <tr>\n",
       "      <th>27</th>\n",
       "      <td>9</td>\n",
       "      <td>65.6</td>\n",
       "      <td>0</td>\n",
       "      <td>1</td>\n",
       "      <td>0</td>\n",
       "    </tr>\n",
       "  </tbody>\n",
       "</table>\n",
       "</div>"
      ],
      "text/plain": [
       "     Age  Height  Smoke  Gender  Caesarean\n",
       "277   13    66.0      0       1          1\n",
       "199   12    66.4      0       0          0\n",
       "627    6    49.2      0       0          0\n",
       "391   16    71.2      0       0          0\n",
       "27     9    65.6      0       1          0"
      ]
     },
     "execution_count": 17,
     "metadata": {},
     "output_type": "execute_result"
    }
   ],
   "source": [
    "lcn_train_x.head()"
   ]
  },
  {
   "cell_type": "code",
   "execution_count": 18,
   "id": "9ffdb4ae",
   "metadata": {},
   "outputs": [
    {
     "data": {
      "text/plain": [
       "0.8532464635516183"
      ]
     },
     "execution_count": 18,
     "metadata": {},
     "output_type": "execute_result"
    }
   ],
   "source": [
    "Rsquare=linreg.score(lcn_train_x,lcn_train_y)\n",
    "Rsquare"
   ]
  },
  {
   "cell_type": "code",
   "execution_count": 19,
   "id": "8a16cb8f",
   "metadata": {},
   "outputs": [],
   "source": [
    "N=lcn_train_x.shape[0]\n",
    "K=lcn_train_x.shape[1]"
   ]
  },
  {
   "cell_type": "code",
   "execution_count": 20,
   "id": "90e3007c",
   "metadata": {},
   "outputs": [
    {
     "data": {
      "text/plain": [
       "0.8519681226417892"
      ]
     },
     "execution_count": 20,
     "metadata": {},
     "output_type": "execute_result"
    }
   ],
   "source": [
    "Adj_Rsquare=1-(1-Rsquare)*(N-1)/(N-K-1)\n",
    "Adj_Rsquare"
   ]
  },
  {
   "cell_type": "code",
   "execution_count": 21,
   "id": "3868a7da",
   "metadata": {},
   "outputs": [
    {
     "data": {
      "text/plain": [
       "Index(['Age', 'Height', 'Smoke', 'Gender', 'Caesarean'], dtype='object')"
      ]
     },
     "execution_count": 21,
     "metadata": {},
     "output_type": "execute_result"
    }
   ],
   "source": [
    "lcn_train_x.columns "
   ]
  },
  {
   "cell_type": "code",
   "execution_count": 22,
   "id": "621599eb",
   "metadata": {},
   "outputs": [
    {
     "data": {
      "text/plain": [
       "array([ 0.15719573,  0.26251836, -0.65016114,  0.43113561, -0.17364093])"
      ]
     },
     "execution_count": 22,
     "metadata": {},
     "output_type": "execute_result"
    }
   ],
   "source": [
    "linreg.coef_"
   ]
  },
  {
   "cell_type": "code",
   "execution_count": 23,
   "id": "ded6080b",
   "metadata": {},
   "outputs": [
    {
     "data": {
      "text/plain": [
       "-11.212399804905935"
      ]
     },
     "execution_count": 23,
     "metadata": {},
     "output_type": "execute_result"
    }
   ],
   "source": [
    "linreg.intercept_#Bo(bita not value)"
   ]
  },
  {
   "cell_type": "code",
   "execution_count": null,
   "id": "6c914626",
   "metadata": {},
   "outputs": [],
   "source": []
  },
  {
   "cell_type": "code",
   "execution_count": 24,
   "id": "2604a7b9",
   "metadata": {},
   "outputs": [],
   "source": [
    "#y=mx+c\n",
    "#if value of m and c  are know then we can do the prediction\n",
    " \n",
    "#m is 3, c is 4.5"
   ]
  },
  {
   "cell_type": "code",
   "execution_count": null,
   "id": "147d3fa3",
   "metadata": {
    "scrolled": true
   },
   "outputs": [],
   "source": []
  },
  {
   "cell_type": "code",
   "execution_count": 25,
   "id": "82e8616b",
   "metadata": {},
   "outputs": [
    {
     "data": {
      "text/html": [
       "<div>\n",
       "<style scoped>\n",
       "    .dataframe tbody tr th:only-of-type {\n",
       "        vertical-align: middle;\n",
       "    }\n",
       "\n",
       "    .dataframe tbody tr th {\n",
       "        vertical-align: top;\n",
       "    }\n",
       "\n",
       "    .dataframe thead th {\n",
       "        text-align: right;\n",
       "    }\n",
       "</style>\n",
       "<table border=\"1\" class=\"dataframe\">\n",
       "  <thead>\n",
       "    <tr style=\"text-align: right;\">\n",
       "      <th></th>\n",
       "      <th>Age</th>\n",
       "      <th>Height</th>\n",
       "      <th>Smoke</th>\n",
       "      <th>Gender</th>\n",
       "      <th>Caesarean</th>\n",
       "    </tr>\n",
       "  </thead>\n",
       "  <tbody>\n",
       "    <tr>\n",
       "      <th>131</th>\n",
       "      <td>17</td>\n",
       "      <td>75.7</td>\n",
       "      <td>0</td>\n",
       "      <td>0</td>\n",
       "      <td>0</td>\n",
       "    </tr>\n",
       "  </tbody>\n",
       "</table>\n",
       "</div>"
      ],
      "text/plain": [
       "     Age  Height  Smoke  Gender  Caesarean\n",
       "131   17    75.7      0       0          0"
      ]
     },
     "execution_count": 25,
     "metadata": {},
     "output_type": "execute_result"
    }
   ],
   "source": [
    "lcn_test_x.head(1)"
   ]
  },
  {
   "cell_type": "code",
   "execution_count": 26,
   "id": "bb85f9f2",
   "metadata": {},
   "outputs": [
    {
     "data": {
      "text/plain": [
       "6.649140326864355"
      ]
     },
     "execution_count": 26,
     "metadata": {},
     "output_type": "execute_result"
    }
   ],
   "source": [
    "#pred_test values how calculated\n",
    "#  linreg.intercept_+linreg.coef_*Age+linreg.coef_*Height-----like\n",
    "-11.185990309135645+0.16563992*12+0.26107828*60.7+ -0.54841684*0+ 0.3868378*0+ -0.20520628*0\n",
    "\n",
    "#pred test first value"
   ]
  },
  {
   "cell_type": "code",
   "execution_count": 27,
   "id": "31b6eaf2",
   "metadata": {},
   "outputs": [],
   "source": [
    "#pred_test first value\n",
    "#pred_test"
   ]
  },
  {
   "cell_type": "code",
   "execution_count": 28,
   "id": "5eb5399f",
   "metadata": {},
   "outputs": [],
   "source": [
    "pred_train=linreg.predict(lcn_train_x)\n",
    "pred_test=linreg.predict(lcn_test_x)"
   ]
  },
  {
   "cell_type": "code",
   "execution_count": 29,
   "id": "462dde2b",
   "metadata": {},
   "outputs": [
    {
     "data": {
      "text/plain": [
       "131    1.592433\n",
       "623   -0.257511\n",
       "265    0.925402\n",
       "439    2.543462\n",
       "250   -0.185692\n",
       "         ...   \n",
       "454    0.443845\n",
       "105    0.279222\n",
       "7     -2.104181\n",
       "351    0.856048\n",
       "456   -0.596990\n",
       "Name: LungCap, Length: 145, dtype: float64"
      ]
     },
     "execution_count": 29,
     "metadata": {},
     "output_type": "execute_result"
    }
   ],
   "source": [
    "err_test= lcn_test_y-pred_test\n",
    "err_test"
   ]
  },
  {
   "cell_type": "code",
   "execution_count": 30,
   "id": "b3b7b75a",
   "metadata": {},
   "outputs": [
    {
     "data": {
      "text/plain": [
       "131    1.592433\n",
       "623   -0.257511\n",
       "265    0.925402\n",
       "439    2.543462\n",
       "250   -0.185692\n",
       "Name: LungCap, dtype: float64"
      ]
     },
     "execution_count": 30,
     "metadata": {},
     "output_type": "execute_result"
    }
   ],
   "source": [
    "err_test.head()"
   ]
  },
  {
   "cell_type": "code",
   "execution_count": 43,
   "id": "c4c07b94",
   "metadata": {},
   "outputs": [
    {
     "data": {
      "text/plain": [
       "0.983533158777759"
      ]
     },
     "execution_count": 43,
     "metadata": {},
     "output_type": "execute_result"
    }
   ],
   "source": [
    "mse=np.mean(np.square(err_test))\n",
    "mse"
   ]
  },
  {
   "cell_type": "code",
   "execution_count": 44,
   "id": "d5313af5",
   "metadata": {},
   "outputs": [
    {
     "data": {
      "text/plain": [
       "0.9917324028072084"
      ]
     },
     "execution_count": 44,
     "metadata": {},
     "output_type": "execute_result"
    }
   ],
   "source": [
    "rmse=np.sqrt(mse)\n",
    "rmse"
   ]
  },
  {
   "cell_type": "code",
   "execution_count": 45,
   "id": "e17bfcfa",
   "metadata": {},
   "outputs": [
    {
     "data": {
      "text/plain": [
       "15.2286441913671"
      ]
     },
     "execution_count": 45,
     "metadata": {},
     "output_type": "execute_result"
    }
   ],
   "source": [
    "mape=np.mean(np.abs(err_test* 100 / lcn_test_y))\n",
    "mape"
   ]
  },
  {
   "cell_type": "code",
   "execution_count": null,
   "id": "e1334287",
   "metadata": {},
   "outputs": [],
   "source": []
  },
  {
   "cell_type": "code",
   "execution_count": 35,
   "id": "15b455ed",
   "metadata": {},
   "outputs": [],
   "source": [
    "#build linrregression model propery price\n",
    "#build linrregression model car price"
   ]
  },
  {
   "cell_type": "markdown",
   "id": "c0f43486",
   "metadata": {},
   "source": [
    "# next class 23-07-22"
   ]
  },
  {
   "cell_type": "code",
   "execution_count": 36,
   "id": "08af43fa",
   "metadata": {},
   "outputs": [],
   "source": [
    "#lets check the assumation  "
   ]
  },
  {
   "cell_type": "code",
   "execution_count": 37,
   "id": "ab680ac4",
   "metadata": {},
   "outputs": [],
   "source": [
    "err_train=lcn_train_y-pred_train  "
   ]
  },
  {
   "cell_type": "code",
   "execution_count": 38,
   "id": "412396ce",
   "metadata": {},
   "outputs": [
    {
     "data": {
      "text/plain": [
       "4.37198170386872e-16"
      ]
     },
     "execution_count": 38,
     "metadata": {},
     "output_type": "execute_result"
    }
   ],
   "source": [
    "np.mean(err_train) \n",
    "#1st check\n",
    "#mean of the error should be close zero if assumation are holding true\n",
    "#mean is not close to zero some problem(assumtion getting  broken)"
   ]
  },
  {
   "cell_type": "code",
   "execution_count": null,
   "id": "b9e38a48",
   "metadata": {},
   "outputs": [],
   "source": [
    "#-1.807749352510341e-15 ==>  0.00000000000000807749352510341 both values same"
   ]
  },
  {
   "cell_type": "code",
   "execution_count": null,
   "id": "33e0a51c",
   "metadata": {},
   "outputs": [],
   "source": []
  },
  {
   "cell_type": "code",
   "execution_count": 39,
   "id": "d43e5c8a",
   "metadata": {},
   "outputs": [],
   "source": [
    "import matplotlib.pyplot as plt"
   ]
  },
  {
   "cell_type": "code",
   "execution_count": 40,
   "id": "5a2c46ce",
   "metadata": {},
   "outputs": [
    {
     "data": {
      "image/png": "[encoded data removed]",
      "text/plain": [
       "<Figure size 432x288 with 1 Axes>"
      ]
     },
     "metadata": {
      "needs_background": "light"
     },
     "output_type": "display_data"
    }
   ],
   "source": [
    "plt.plot(err_train,'*',color='r');\n",
    "plt.grid(color='g')"
   ]
  },
  {
   "cell_type": "code",
   "execution_count": 41,
   "id": "aaeae427",
   "metadata": {},
   "outputs": [],
   "source": [
    "# i am not able to find any patteren\n",
    "#  but few values liitle far away from mean"
   ]
  },
  {
   "cell_type": "code",
   "execution_count": 42,
   "id": "681b79ba",
   "metadata": {},
   "outputs": [
    {
     "data": {
      "image/png": "[encoded data removed]",
      "text/plain": [
       "<Figure size 432x288 with 1 Axes>"
      ]
     },
     "metadata": {
      "needs_background": "light"
     },
     "output_type": "display_data"
    }
   ],
   "source": [
    "#to check normal distrubtion we plot histrogram\n",
    "plt.hist(err_train,bins=21,edgecolor='b');\n"
   ]
  },
  {
   "cell_type": "code",
   "execution_count": 46,
   "id": "7af473de",
   "metadata": {},
   "outputs": [],
   "source": [
    "pred_acutual_df=pd.DataFrame() # create empty dataframe"
   ]
  },
  {
   "cell_type": "code",
   "execution_count": 47,
   "id": "687d4125",
   "metadata": {},
   "outputs": [],
   "source": [
    "pred_acutual_df['Actual']=lcn_train_y\n",
    "pred_acutual_df['Predict']=pred_train"
   ]
  },
  {
   "cell_type": "code",
   "execution_count": 48,
   "id": "77eb64c1",
   "metadata": {},
   "outputs": [
    {
     "data": {
      "text/html": [
       "<div>\n",
       "<style scoped>\n",
       "    .dataframe tbody tr th:only-of-type {\n",
       "        vertical-align: middle;\n",
       "    }\n",
       "\n",
       "    .dataframe tbody tr th {\n",
       "        vertical-align: top;\n",
       "    }\n",
       "\n",
       "    .dataframe thead th {\n",
       "        text-align: right;\n",
       "    }\n",
       "</style>\n",
       "<table border=\"1\" class=\"dataframe\">\n",
       "  <thead>\n",
       "    <tr style=\"text-align: right;\">\n",
       "      <th></th>\n",
       "      <th>Actual</th>\n",
       "      <th>Predict</th>\n",
       "    </tr>\n",
       "  </thead>\n",
       "  <tbody>\n",
       "    <tr>\n",
       "      <th>277</th>\n",
       "      <td>6.700</td>\n",
       "      <td>8.414851</td>\n",
       "    </tr>\n",
       "    <tr>\n",
       "      <th>199</th>\n",
       "      <td>7.575</td>\n",
       "      <td>8.105168</td>\n",
       "    </tr>\n",
       "    <tr>\n",
       "      <th>627</th>\n",
       "      <td>2.925</td>\n",
       "      <td>2.646678</td>\n",
       "    </tr>\n",
       "    <tr>\n",
       "      <th>391</th>\n",
       "      <td>11.325</td>\n",
       "      <td>9.994039</td>\n",
       "    </tr>\n",
       "    <tr>\n",
       "      <th>27</th>\n",
       "      <td>9.025</td>\n",
       "      <td>7.854702</td>\n",
       "    </tr>\n",
       "    <tr>\n",
       "      <th>...</th>\n",
       "      <td>...</td>\n",
       "      <td>...</td>\n",
       "    </tr>\n",
       "    <tr>\n",
       "      <th>205</th>\n",
       "      <td>5.850</td>\n",
       "      <td>4.469476</td>\n",
       "    </tr>\n",
       "    <tr>\n",
       "      <th>287</th>\n",
       "      <td>3.025</td>\n",
       "      <td>2.174145</td>\n",
       "    </tr>\n",
       "    <tr>\n",
       "      <th>168</th>\n",
       "      <td>6.050</td>\n",
       "      <td>6.935887</td>\n",
       "    </tr>\n",
       "    <tr>\n",
       "      <th>271</th>\n",
       "      <td>8.800</td>\n",
       "      <td>9.495885</td>\n",
       "    </tr>\n",
       "    <tr>\n",
       "      <th>547</th>\n",
       "      <td>10.775</td>\n",
       "      <td>10.423244</td>\n",
       "    </tr>\n",
       "  </tbody>\n",
       "</table>\n",
       "<p>580 rows × 2 columns</p>\n",
       "</div>"
      ],
      "text/plain": [
       "     Actual    Predict\n",
       "277   6.700   8.414851\n",
       "199   7.575   8.105168\n",
       "627   2.925   2.646678\n",
       "391  11.325   9.994039\n",
       "27    9.025   7.854702\n",
       "..      ...        ...\n",
       "205   5.850   4.469476\n",
       "287   3.025   2.174145\n",
       "168   6.050   6.935887\n",
       "271   8.800   9.495885\n",
       "547  10.775  10.423244\n",
       "\n",
       "[580 rows x 2 columns]"
      ]
     },
     "execution_count": 48,
     "metadata": {},
     "output_type": "execute_result"
    }
   ],
   "source": [
    "pred_acutual_df #actual,predicted dataframe"
   ]
  },
  {
   "cell_type": "code",
   "execution_count": 49,
   "id": "3e8d47e4",
   "metadata": {},
   "outputs": [],
   "source": [
    "import seaborn as sns"
   ]
  },
  {
   "cell_type": "code",
   "execution_count": 50,
   "id": "5c3dec43",
   "metadata": {
    "scrolled": true
   },
   "outputs": [
    {
     "data": {
      "text/plain": [
       "<seaborn.axisgrid.JointGrid at 0x1482c712df0>"
      ]
     },
     "execution_count": 50,
     "metadata": {},
     "output_type": "execute_result"
    },
    {
     "data": {
      "image/png": "[encoded data removed]",
      "text/plain": [
       "<Figure size 432x432 with 3 Axes>"
      ]
     },
     "metadata": {
      "needs_background": "light"
     },
     "output_type": "display_data"
    }
   ],
   "source": [
    "sns.jointplot(x='Actual', y='Predict', data=pred_acutual_df, kind='reg') #kind=reg 'reg' means its regression plot "
   ]
  },
  {
   "cell_type": "code",
   "execution_count": 51,
   "id": "58f6c248",
   "metadata": {},
   "outputs": [],
   "source": [
    "# x=actual value\n",
    "# y= predicted values\n",
    "#so guys ,this is regression plot on this plot on x-axis we take actual, on y-axis we predicted values\n",
    "#some points away from regression line this point we called as outliers.  "
   ]
  },
  {
   "cell_type": "code",
   "execution_count": null,
   "id": "5544c6dc",
   "metadata": {},
   "outputs": [],
   "source": []
  },
  {
   "cell_type": "code",
   "execution_count": 52,
   "id": "f94b83db",
   "metadata": {},
   "outputs": [],
   "source": [
    "def remove_outliers(df, col, k):\n",
    "    mean= df[col].mean()\n",
    "    global df1\n",
    "    sd= df[col].std()\n",
    "    final_list=[x for x in df[col] if (x > mean-k*sd)]\n",
    "    final_list= [x for x in final_list if (x < mean + k*sd)]\n",
    "    df1 =df.loc[df[col].isin(final_list)] ; print(df1.shape)\n",
    "    print('number of outliers removed ==>', df.shape[0] - df1.shape[0])"
   ]
  },
  {
   "cell_type": "code",
   "execution_count": 53,
   "id": "45ced7d7",
   "metadata": {},
   "outputs": [],
   "source": [
    "# df1 is the final dataframe where outliers have been removed   "
   ]
  },
  {
   "cell_type": "code",
   "execution_count": 56,
   "id": "ccb6dacb",
   "metadata": {},
   "outputs": [
    {
     "name": "stdout",
     "output_type": "stream",
     "text": [
      "(695, 6)\n",
      "number of outliers removed ==> 30\n"
     ]
    }
   ],
   "source": [
    "remove_outliers(lcn,'LungCap',2)"
   ]
  },
  {
   "cell_type": "code",
   "execution_count": 55,
   "id": "63e280f5",
   "metadata": {},
   "outputs": [
    {
     "data": {
      "text/html": [
       "<div>\n",
       "<style scoped>\n",
       "    .dataframe tbody tr th:only-of-type {\n",
       "        vertical-align: middle;\n",
       "    }\n",
       "\n",
       "    .dataframe tbody tr th {\n",
       "        vertical-align: top;\n",
       "    }\n",
       "\n",
       "    .dataframe thead th {\n",
       "        text-align: right;\n",
       "    }\n",
       "</style>\n",
       "<table border=\"1\" class=\"dataframe\">\n",
       "  <thead>\n",
       "    <tr style=\"text-align: right;\">\n",
       "      <th></th>\n",
       "      <th>LungCap</th>\n",
       "      <th>Age</th>\n",
       "      <th>Height</th>\n",
       "      <th>Smoke</th>\n",
       "      <th>Gender</th>\n",
       "      <th>Caesarean</th>\n",
       "    </tr>\n",
       "  </thead>\n",
       "  <tbody>\n",
       "    <tr>\n",
       "      <th>0</th>\n",
       "      <td>6.475</td>\n",
       "      <td>6</td>\n",
       "      <td>62.1</td>\n",
       "      <td>0</td>\n",
       "      <td>1</td>\n",
       "      <td>0</td>\n",
       "    </tr>\n",
       "    <tr>\n",
       "      <th>1</th>\n",
       "      <td>10.125</td>\n",
       "      <td>18</td>\n",
       "      <td>74.7</td>\n",
       "      <td>1</td>\n",
       "      <td>0</td>\n",
       "      <td>0</td>\n",
       "    </tr>\n",
       "    <tr>\n",
       "      <th>2</th>\n",
       "      <td>9.550</td>\n",
       "      <td>16</td>\n",
       "      <td>69.7</td>\n",
       "      <td>0</td>\n",
       "      <td>0</td>\n",
       "      <td>1</td>\n",
       "    </tr>\n",
       "    <tr>\n",
       "      <th>3</th>\n",
       "      <td>11.125</td>\n",
       "      <td>14</td>\n",
       "      <td>71.0</td>\n",
       "      <td>0</td>\n",
       "      <td>1</td>\n",
       "      <td>0</td>\n",
       "    </tr>\n",
       "    <tr>\n",
       "      <th>4</th>\n",
       "      <td>4.800</td>\n",
       "      <td>5</td>\n",
       "      <td>56.9</td>\n",
       "      <td>0</td>\n",
       "      <td>1</td>\n",
       "      <td>0</td>\n",
       "    </tr>\n",
       "  </tbody>\n",
       "</table>\n",
       "</div>"
      ],
      "text/plain": [
       "   LungCap  Age  Height  Smoke  Gender  Caesarean\n",
       "0    6.475    6    62.1      0       1          0\n",
       "1   10.125   18    74.7      1       0          0\n",
       "2    9.550   16    69.7      0       0          1\n",
       "3   11.125   14    71.0      0       1          0\n",
       "4    4.800    5    56.9      0       1          0"
      ]
     },
     "execution_count": 55,
     "metadata": {},
     "output_type": "execute_result"
    }
   ],
   "source": [
    "lcn.head()"
   ]
  },
  {
   "cell_type": "code",
   "execution_count": null,
   "id": "c626ba71",
   "metadata": {},
   "outputs": [],
   "source": []
  },
  {
   "cell_type": "code",
   "execution_count": null,
   "id": "dea12a93",
   "metadata": {},
   "outputs": [],
   "source": []
  },
  {
   "cell_type": "code",
   "execution_count": null,
   "id": "6569a44e",
   "metadata": {},
   "outputs": [],
   "source": []
  },
  {
   "cell_type": "code",
   "execution_count": null,
   "id": "2a776f1a",
   "metadata": {},
   "outputs": [],
   "source": []
  }
 ],
 "metadata": {
  "kernelspec": {
   "display_name": "Python 3 (ipykernel)",
   "language": "python",
   "name": "python3"
  },
  "language_info": {
   "codemirror_mode": {
    "name": "ipython",
    "version": 3
   },
   "file_extension": ".py",
   "mimetype": "text/x-python",
   "name": "python",
   "nbconvert_exporter": "python",
   "pygments_lexer": "ipython3",
   "version": "3.9.12"
  }
 },
 "nbformat": 4,
 "nbformat_minor": 5
}
